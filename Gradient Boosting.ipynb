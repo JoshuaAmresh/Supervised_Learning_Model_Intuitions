{
 "cells": [
  {
   "cell_type": "markdown",
   "metadata": {},
   "source": [
    "<img src = 'GBT_1.PNG'/>"
   ]
  },
  {
   "cell_type": "markdown",
   "metadata": {},
   "source": [
    "#### From the above example\n",
    "\n",
    "- Experience and degree are independent and salary is the dependent feature\n",
    "- Step 1: Build a decision tree base model i.e., that gives output which is the average of the salary column\n",
    "- Step 2: Compute pseudo residuals (R1)\n",
    "- Step 3: Now pass the independent features to the model by adding another tree sequentially but having R1 as the target variable\n",
    "- Step 4: This output will give the residual R2\n",
    "- Step 5: Now calculate the overall model output as yhat + R2\n",
    "- Step 6: Now the model will look like it performs well but it has high variance and is overfitting\n",
    "- Step 7: Add a learning rate to reduce overfitting, which varies between 0 and 1\n",
    "- Step 8: Repeat the above steps continuously by adding more trees sequentially and the goal is to reduce the residuals to as low as possible\n",
    "- Step 9: Once training is done, the data has to pass through the base model and all the sequentially added trees to get the prediction"
   ]
  },
  {
   "cell_type": "markdown",
   "metadata": {},
   "source": [
    "## Pseudo-Algorithmn follow up"
   ]
  },
  {
   "cell_type": "markdown",
   "metadata": {},
   "source": [
    "#### Pseudo code\n",
    "\n",
    "<img src = 'GBT_2.PNG'/>"
   ]
  },
  {
   "cell_type": "markdown",
   "metadata": {},
   "source": [
    "#### Step 1\n",
    "\n",
    "<img src = 'GBT_3.PNG'/>\n",
    "\n",
    "- here argmin(gamma) --> gamma is nothing but yhat. Need to get yhat which reduces the loss as much as possible"
   ]
  },
  {
   "cell_type": "markdown",
   "metadata": {},
   "source": [
    "#### Step 2\n",
    "\n",
    "<img src = 'GBT_4.PNG'/>"
   ]
  },
  {
   "cell_type": "markdown",
   "metadata": {},
   "source": [
    "#### Step 3\n",
    "\n",
    "<img src = 'GBT_5.PNG'/>\n",
    "\n",
    "- Repeat the expansion method in step 1 for this step to get the yhat"
   ]
  },
  {
   "cell_type": "markdown",
   "metadata": {},
   "source": [
    "#### Step 4\n",
    "\n",
    "- Update the model by adding each of the previous model output with the last model output to get the prediction. P.S: Don't forget to keep a learning rate to avoid overfitting"
   ]
  },
  {
   "cell_type": "code",
   "execution_count": null,
   "metadata": {},
   "outputs": [],
   "source": []
  }
 ],
 "metadata": {
  "kernelspec": {
   "display_name": "Python 3 (ipykernel)",
   "language": "python",
   "name": "python3"
  },
  "language_info": {
   "codemirror_mode": {
    "name": "ipython",
    "version": 3
   },
   "file_extension": ".py",
   "mimetype": "text/x-python",
   "name": "python",
   "nbconvert_exporter": "python",
   "pygments_lexer": "ipython3",
   "version": "3.9.7"
  }
 },
 "nbformat": 4,
 "nbformat_minor": 2
}
